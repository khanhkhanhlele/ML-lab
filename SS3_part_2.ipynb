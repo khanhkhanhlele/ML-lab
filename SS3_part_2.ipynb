{
  "nbformat": 4,
  "nbformat_minor": 0,
  "metadata": {
    "colab": {
      "name": "SS3 part 2.ipynb",
      "provenance": [],
      "authorship_tag": "ABX9TyOfEcpwrEdEYvdp9jrJZlyA",
      "include_colab_link": true
    },
    "kernelspec": {
      "name": "python3",
      "display_name": "Python 3"
    },
    "language_info": {
      "name": "python"
    }
  },
  "cells": [
    {
      "cell_type": "markdown",
      "metadata": {
        "id": "view-in-github",
        "colab_type": "text"
      },
      "source": [
        "<a href=\"https://colab.research.google.com/github/khanhkhanhlele/ML-lab/blob/main/SS3_part_2.ipynb\" target=\"_parent\"><img src=\"https://colab.research.google.com/assets/colab-badge.svg\" alt=\"Open In Colab\"/></a>"
      ]
    },
    {
      "cell_type": "markdown",
      "source": [
        "#init"
      ],
      "metadata": {
        "id": "tCrfqoeqdnqi"
      }
    },
    {
      "cell_type": "code",
      "execution_count": 1,
      "metadata": {
        "id": "ueIzKv4QccEz"
      },
      "outputs": [],
      "source": [
        "import os\n",
        "import pandas as pd \n",
        "import numpy as np\n",
        "import math \n",
        "import re"
      ]
    },
    {
      "cell_type": "code",
      "source": [
        "from google.colab import drive\n",
        "drive.mount('/content/drive')"
      ],
      "metadata": {
        "colab": {
          "base_uri": "https://localhost:8080/"
        },
        "id": "-s9MfuoPdnAx",
        "outputId": "9af6c399-9a58-42b6-a6e8-221e0166030d"
      },
      "execution_count": 2,
      "outputs": [
        {
          "output_type": "stream",
          "name": "stdout",
          "text": [
            "Mounted at /content/drive\n"
          ]
        }
      ]
    },
    {
      "cell_type": "code",
      "source": [
        "cd /content/drive/MyDrive/"
      ],
      "metadata": {
        "colab": {
          "base_uri": "https://localhost:8080/"
        },
        "id": "hXSs7XWNdrfI",
        "outputId": "e2a002fc-a44b-4c12-f65a-d3f1762a8a40"
      },
      "execution_count": 3,
      "outputs": [
        {
          "output_type": "stream",
          "name": "stdout",
          "text": [
            "/content/drive/MyDrive\n"
          ]
        }
      ]
    },
    {
      "cell_type": "markdown",
      "source": [
        "# get data from Ss2"
      ],
      "metadata": {
        "id": "5uxcRnEEgNQL"
      }
    },
    {
      "cell_type": "code",
      "source": [
        "def load_data(data_path):\n",
        "    def sparse_to_dense(sparse_r_d, vocab_size):\n",
        "        r_d = [0.0 for _ in range(vocab_size)]\n",
        "        indices_tfidfs = sparse_r_d.split()\n",
        "        for index_tfidf in indices_tfidfs:\n",
        "            index = int(index_tfidf.split(':')[0])\n",
        "            tfidf = float(index_tfidf.split(':')[1])\n",
        "            r_d[index] = tfidf\n",
        "        return np.array(r_d)\n",
        "\n",
        "    with open(data_path, encoding='unicode_escape') as f:\n",
        "        d_lines = f.read().splitlines()\n",
        "    with open('/content/drive/MyDrive/datasets/20news-bydate/words_idfs.txt', encoding='unicode_escape') as f:\n",
        "        vocab_size = len(f.read().splitlines())\n",
        "\n",
        "    data = []\n",
        "    labels = []\n",
        "    for data_id, d in enumerate(d_lines):\n",
        "        features = d.split('<fff>')\n",
        "        label, doc_id = int(features[0]), int(features[1])\n",
        "        r_d = sparse_to_dense(sparse_r_d = features[2], vocab_size=vocab_size)\n",
        "        data.append(r_d)\n",
        "        labels.append(label)\n",
        "    return data, labels\n",
        "X, y = load_data('/content/drive/MyDrive/datasets/20news-bydate/data_tf_idf.txt')"
      ],
      "metadata": {
        "id": "NMn6lshtgMsL"
      },
      "execution_count": 4,
      "outputs": []
    },
    {
      "cell_type": "code",
      "source": [
        "X, y = np.array(X), np.array(y)\n",
        "from sklearn.model_selection import train_test_split\n",
        "X_train, X_test, y_train, y_test = train_test_split(X, y, random_state=1)"
      ],
      "metadata": {
        "id": "zlM7gSe6gU0S"
      },
      "execution_count": 5,
      "outputs": []
    },
    {
      "cell_type": "markdown",
      "source": [
        "#MLP"
      ],
      "metadata": {
        "id": "uwmIyeNMgmKD"
      }
    },
    {
      "cell_type": "code",
      "source": [
        "print(X.shape)\n",
        "print(y.shape)"
      ],
      "metadata": {
        "colab": {
          "base_uri": "https://localhost:8080/"
        },
        "id": "EwuZtU64glpV",
        "outputId": "3474a20e-d333-4174-8e08-7cd048c893ee"
      },
      "execution_count": 6,
      "outputs": [
        {
          "output_type": "stream",
          "name": "stdout",
          "text": [
            "(18846, 14230)\n",
            "(18846,)\n"
          ]
        }
      ]
    },
    {
      "cell_type": "code",
      "source": [
        "from sklearn.neural_network import MLPClassifier\n",
        "clf = MLPClassifier(hidden_layer_sizes=(50,), max_iter=10000)\n",
        "clf.fit(X_train,y_train)\n",
        "y_pred = clf.predict(X_test)\n",
        "acc = (100*np.mean(y_pred == y_test))\n",
        "print('training accuracy: %.2f %%' % acc)"
      ],
      "metadata": {
        "colab": {
          "base_uri": "https://localhost:8080/"
        },
        "id": "4WvQjG8nhz2M",
        "outputId": "6caf74f5-91cf-4af1-eedf-c722238225de"
      },
      "execution_count": 7,
      "outputs": [
        {
          "output_type": "stream",
          "name": "stdout",
          "text": [
            "training accuracy: 90.98 %\n"
          ]
        }
      ]
    }
  ]
}