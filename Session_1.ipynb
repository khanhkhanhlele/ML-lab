{
  "nbformat": 4,
  "nbformat_minor": 0,
  "metadata": {
    "colab": {
      "name": "Session 1.ipynb",
      "provenance": [],
      "collapsed_sections": [],
      "mount_file_id": "1ZQd--pFDmyRGRuZhhSNO0YIt3OJPsORy",
      "authorship_tag": "ABX9TyNvxBBcBPARj46VO8Eo6HV3",
      "include_colab_link": true
    },
    "kernelspec": {
      "name": "python3",
      "display_name": "Python 3"
    },
    "language_info": {
      "name": "python"
    }
  },
  "cells": [
    {
      "cell_type": "markdown",
      "metadata": {
        "id": "view-in-github",
        "colab_type": "text"
      },
      "source": [
        "<a href=\"https://colab.research.google.com/github/khanhkhanhlele/ML-lab/blob/main/Session_1.ipynb\" target=\"_parent\"><img src=\"https://colab.research.google.com/assets/colab-badge.svg\" alt=\"Open In Colab\"/></a>"
      ]
    },
    {
      "cell_type": "markdown",
      "source": [
        "##Làm quen với Python\n"
      ],
      "metadata": {
        "id": "pkn2sfVfYgu5"
      }
    },
    {
      "cell_type": "code",
      "execution_count": null,
      "metadata": {
        "colab": {
          "base_uri": "https://localhost:8080/"
        },
        "id": "dpQH3SCDRSdW",
        "outputId": "49f0ed8d-7569-4d74-f3cd-6f0139a4bc74"
      },
      "outputs": [
        {
          "output_type": "execute_result",
          "data": {
            "text/plain": [
              "3.0"
            ]
          },
          "metadata": {},
          "execution_count": 4
        }
      ],
      "source": [
        "a = 1\n",
        "b = 2.0\n",
        "c = a + b\n",
        "c"
      ]
    },
    {
      "cell_type": "code",
      "source": [
        "f_num = float(\"2018\")\n",
        "int_num = int(\"2018\")\n",
        "year = str(2018)\n",
        "f_num, int_num, year"
      ],
      "metadata": {
        "colab": {
          "base_uri": "https://localhost:8080/"
        },
        "id": "aKx2Ka_UZP_Z",
        "outputId": "1bfe2943-ef52-433f-af3d-af7e73ac5044"
      },
      "execution_count": null,
      "outputs": [
        {
          "output_type": "execute_result",
          "data": {
            "text/plain": [
              "(2018.0, 2018, '2018')"
            ]
          },
          "metadata": {},
          "execution_count": 2
        }
      ]
    },
    {
      "cell_type": "code",
      "source": [
        "name = 'summer' + str(2018)\n",
        "name2 = '1' * 5\n",
        "name3 = 'Data {} {}'.format(\"Science\", 2018)\n",
        "name, name2, name3"
      ],
      "metadata": {
        "colab": {
          "base_uri": "https://localhost:8080/"
        },
        "id": "Z52KHY3uZj1w",
        "outputId": "80ad2e4e-2311-46b3-ff84-a168593330c6"
      },
      "execution_count": null,
      "outputs": [
        {
          "output_type": "execute_result",
          "data": {
            "text/plain": [
              "('summer2018', '11111', 'Data Science 2018')"
            ]
          },
          "metadata": {},
          "execution_count": 5
        }
      ]
    },
    {
      "cell_type": "code",
      "source": [
        "list_1 = name3.split()\n",
        "list_2 = 'Data--Science--2018'.split('--')\n",
        "name = '--'.join(list_1)\n",
        "name2 = 'Data Science'.replace('e','-')\n",
        "list_1, list_2, name, name2"
      ],
      "metadata": {
        "colab": {
          "base_uri": "https://localhost:8080/"
        },
        "id": "i8FmnJeIaE4a",
        "outputId": "15d4a1e6-d54c-4e1c-f8d1-3aeab8f476fe"
      },
      "execution_count": null,
      "outputs": [
        {
          "output_type": "execute_result",
          "data": {
            "text/plain": [
              "(['Data', 'Science', '2018'],\n",
              " ['Data', 'Science', '2018'],\n",
              " 'Data--Science--2018',\n",
              " 'Data Sci-nc-')"
            ]
          },
          "metadata": {},
          "execution_count": 6
        }
      ]
    },
    {
      "cell_type": "code",
      "source": [
        "a = ' '.isspace()\n",
        "b = '\\t\\t'.isspace()\n",
        "c = '-'.isspace()\n",
        "print(a,b,c)\n",
        "a = 'abcde'.isalpha()\n",
        "b = 'ab12'.isalpha()\n",
        "print(a,b)\n",
        "a = '1234'.isdigit()\n",
        "b = 'ab12'.isdigit()\n",
        "print(a,b)"
      ],
      "metadata": {
        "colab": {
          "base_uri": "https://localhost:8080/"
        },
        "id": "UwKfi6XfaxVp",
        "outputId": "27e00a8c-2944-4545-bff8-daaa8eb6fde8"
      },
      "execution_count": null,
      "outputs": [
        {
          "output_type": "stream",
          "name": "stdout",
          "text": [
            "True True False\n",
            "True False\n",
            "True False\n"
          ]
        }
      ]
    },
    {
      "cell_type": "markdown",
      "source": [
        "###list"
      ],
      "metadata": {
        "id": "S_-43IbxcPha"
      }
    },
    {
      "cell_type": "code",
      "source": [
        "a = [1,2,3]\n",
        "b = range(5)\n",
        "c = range(1,10,2)\n",
        "d = range(5,1,-1)\n",
        "e = [x for x in range(10) if x % 2 == 0]\n",
        "f = []\n",
        "f.append(\"alo\")\n",
        "f.append(123)\n",
        "a, b, c, d, e, f"
      ],
      "metadata": {
        "colab": {
          "base_uri": "https://localhost:8080/"
        },
        "id": "3H7L_OA5Rwdo",
        "outputId": "56f8f190-4d2a-4cf0-dba7-cac19e0f018e"
      },
      "execution_count": null,
      "outputs": [
        {
          "output_type": "stream",
          "name": "stdout",
          "text": [
            "range(0, 5)\n"
          ]
        },
        {
          "output_type": "execute_result",
          "data": {
            "text/plain": [
              "([1, 2, 3],\n",
              " range(0, 5),\n",
              " range(1, 10, 2),\n",
              " range(5, 1, -1),\n",
              " [0, 2, 4, 6, 8],\n",
              " ['alo', 123])"
            ]
          },
          "metadata": {},
          "execution_count": 10
        }
      ]
    },
    {
      "cell_type": "code",
      "source": [
        "src =  range(10)\n",
        "a = src[:7]\n",
        "b = src[3:]\n",
        "c = src[3:7]\n",
        "d = src[:-1]\n",
        "e = src[:-2]\n",
        "length = len(src)\n",
        "a, b, c, d, e, length"
      ],
      "metadata": {
        "colab": {
          "base_uri": "https://localhost:8080/"
        },
        "id": "MSePE_2Oc19A",
        "outputId": "2920fc71-ea7c-493e-c2a8-05da783a7071"
      },
      "execution_count": null,
      "outputs": [
        {
          "output_type": "execute_result",
          "data": {
            "text/plain": [
              "(range(0, 7), range(3, 10), range(3, 7), range(0, 9), range(0, 8), 10)"
            ]
          },
          "metadata": {},
          "execution_count": 12
        }
      ]
    },
    {
      "cell_type": "code",
      "source": [
        "src = ['a', 'b', 20]\n",
        "obj = list(enumerate(src))\n",
        "obj"
      ],
      "metadata": {
        "colab": {
          "base_uri": "https://localhost:8080/"
        },
        "id": "5UAo_5r7dcOY",
        "outputId": "01abc939-4550-4a05-e115-da676fb5630e"
      },
      "execution_count": null,
      "outputs": [
        {
          "output_type": "execute_result",
          "data": {
            "text/plain": [
              "[(0, 'a'), (1, 'b'), (2, 20)]"
            ]
          },
          "metadata": {},
          "execution_count": 15
        }
      ]
    },
    {
      "cell_type": "code",
      "source": [
        "exp_1 = 'a' in src\n",
        "exp_2 = 20 not in src\n",
        "exp_1, exp_2"
      ],
      "metadata": {
        "colab": {
          "base_uri": "https://localhost:8080/"
        },
        "id": "_Ja-BKBkdq20",
        "outputId": "9d600778-1734-4e18-9a99-a768fec26482"
      },
      "execution_count": null,
      "outputs": [
        {
          "output_type": "execute_result",
          "data": {
            "text/plain": [
              "(True, False)"
            ]
          },
          "metadata": {},
          "execution_count": 17
        }
      ]
    },
    {
      "cell_type": "code",
      "source": [
        "src = [(3, \"A\"), (2, \"C\"), (1, \"D\"), (4, \"B\")]\n",
        "src.sort()\n",
        "print(src)\n",
        "src.sort(key = lambda a: a[1])\n",
        "print(src)"
      ],
      "metadata": {
        "colab": {
          "base_uri": "https://localhost:8080/"
        },
        "id": "49gwERQueYim",
        "outputId": "d477a9fb-6855-4d8b-f39b-55caf011e4c0"
      },
      "execution_count": null,
      "outputs": [
        {
          "output_type": "stream",
          "name": "stdout",
          "text": [
            "[(1, 'D'), (2, 'C'), (3, 'A'), (4, 'B')]\n",
            "[(3, 'A'), (4, 'B'), (2, 'C'), (1, 'D')]\n"
          ]
        }
      ]
    },
    {
      "cell_type": "code",
      "source": [
        "src = list(range(5))\n",
        "del src[3]\n",
        "src"
      ],
      "metadata": {
        "colab": {
          "base_uri": "https://localhost:8080/"
        },
        "id": "J1ZWMUJ5fEEx",
        "outputId": "3c4245eb-3820-4eef-819f-0894c2127b94"
      },
      "execution_count": null,
      "outputs": [
        {
          "output_type": "execute_result",
          "data": {
            "text/plain": [
              "[0, 1, 2, 4]"
            ]
          },
          "metadata": {},
          "execution_count": 31
        }
      ]
    },
    {
      "cell_type": "code",
      "source": [
        "a = [1, 2, 3]\n",
        "b = ['a', 'b', 'c']\n",
        "c = list(zip(a, b))\n",
        "c"
      ],
      "metadata": {
        "colab": {
          "base_uri": "https://localhost:8080/"
        },
        "id": "pTgO-JpFhXdT",
        "outputId": "6f808195-4e53-488a-ade0-156e3e094f30"
      },
      "execution_count": null,
      "outputs": [
        {
          "output_type": "execute_result",
          "data": {
            "text/plain": [
              "[(1, 'a'), (2, 'b'), (3, 'c')]"
            ]
          },
          "metadata": {},
          "execution_count": 33
        }
      ]
    },
    {
      "cell_type": "markdown",
      "source": [
        "###tuple"
      ],
      "metadata": {
        "id": "PfNR99YVh2If"
      }
    },
    {
      "cell_type": "code",
      "source": [
        "src = (3, 2, 1)\n",
        "#src[2] = 5\n",
        "#không được đổi"
      ],
      "metadata": {
        "id": "pUaiAtMfhnxe"
      },
      "execution_count": null,
      "outputs": []
    },
    {
      "cell_type": "markdown",
      "source": [
        "### set"
      ],
      "metadata": {
        "id": "L-fVd5TaiJ_u"
      }
    },
    {
      "cell_type": "code",
      "source": [
        "#Tập hợp các phần tử phân biệt\n",
        "#Thu gọn list có các phần tử trùng lặp\n",
        "\n",
        "src = [1, 2, 3, 2, 4, 4, 5, 1]\n",
        "reduce_list = list(set(src))\n",
        "reduce_list"
      ],
      "metadata": {
        "colab": {
          "base_uri": "https://localhost:8080/"
        },
        "id": "aCXUoLdziOZN",
        "outputId": "f58ef9d2-33b5-4172-b310-f79e78e0948a"
      },
      "execution_count": null,
      "outputs": [
        {
          "output_type": "execute_result",
          "data": {
            "text/plain": [
              "[1, 2, 3, 4, 5]"
            ]
          },
          "metadata": {},
          "execution_count": 34
        }
      ]
    },
    {
      "cell_type": "markdown",
      "source": [
        "###dictionary"
      ],
      "metadata": {
        "id": "aUQ1ZoAWimRg"
      }
    },
    {
      "cell_type": "code",
      "source": [
        "dict_1 = dict()\n",
        "dict_1['A'] = 1\n",
        "dict_1['B'] = 2\n",
        "dict_1"
      ],
      "metadata": {
        "colab": {
          "base_uri": "https://localhost:8080/"
        },
        "id": "3DbMFJz0ijMa",
        "outputId": "7a6d1efc-2d42-43b6-c35b-16caca7d6463"
      },
      "execution_count": null,
      "outputs": [
        {
          "output_type": "execute_result",
          "data": {
            "text/plain": [
              "{'A': 1, 'B': 2}"
            ]
          },
          "metadata": {},
          "execution_count": 35
        }
      ]
    },
    {
      "cell_type": "code",
      "source": [
        "dict_1.keys()"
      ],
      "metadata": {
        "colab": {
          "base_uri": "https://localhost:8080/"
        },
        "id": "B-b9x2Yti_G5",
        "outputId": "99acd5fc-6ddd-4849-fb9b-54a63d301d15"
      },
      "execution_count": null,
      "outputs": [
        {
          "output_type": "execute_result",
          "data": {
            "text/plain": [
              "dict_keys(['A', 'B'])"
            ]
          },
          "metadata": {},
          "execution_count": 37
        }
      ]
    },
    {
      "cell_type": "code",
      "source": [
        "dict_1.values()"
      ],
      "metadata": {
        "colab": {
          "base_uri": "https://localhost:8080/"
        },
        "id": "0C0hYzg-jC6b",
        "outputId": "35087f1f-64a0-4d97-dab3-891e5d93cad5"
      },
      "execution_count": null,
      "outputs": [
        {
          "output_type": "execute_result",
          "data": {
            "text/plain": [
              "dict_values([1, 2])"
            ]
          },
          "metadata": {},
          "execution_count": 38
        }
      ]
    },
    {
      "cell_type": "markdown",
      "source": [
        "###if, else, loop"
      ],
      "metadata": {
        "id": "7grP01_XjSZd"
      }
    },
    {
      "cell_type": "code",
      "source": [
        "a = 1\n",
        "if a == 1:\n",
        "  print(True)\n",
        "else:\n",
        "  print(False)"
      ],
      "metadata": {
        "colab": {
          "base_uri": "https://localhost:8080/"
        },
        "id": "ar28rn4jjSJf",
        "outputId": "3121b116-b2d8-4e10-ea7c-65f52b2b5575"
      },
      "execution_count": null,
      "outputs": [
        {
          "output_type": "stream",
          "name": "stdout",
          "text": [
            "True\n"
          ]
        }
      ]
    },
    {
      "cell_type": "code",
      "source": [
        "for i in range(5):\n",
        "  print(i)"
      ],
      "metadata": {
        "colab": {
          "base_uri": "https://localhost:8080/"
        },
        "id": "IxnWx2Jhjo7S",
        "outputId": "d6472b7a-fd39-404c-87e0-a7d2ebbe54c4"
      },
      "execution_count": null,
      "outputs": [
        {
          "output_type": "stream",
          "name": "stdout",
          "text": [
            "0\n",
            "1\n",
            "2\n",
            "3\n",
            "4\n"
          ]
        }
      ]
    },
    {
      "cell_type": "code",
      "source": [
        "i = 0\n",
        "while True:\n",
        "  i += 1\n",
        "  if i % 2 == 0:\n",
        "    print(i)\n",
        "  if i == 10:\n",
        "    break"
      ],
      "metadata": {
        "colab": {
          "base_uri": "https://localhost:8080/"
        },
        "id": "BzKd4dYdjuCG",
        "outputId": "6df8d16f-abec-4c7d-801b-0475dc3e8377"
      },
      "execution_count": null,
      "outputs": [
        {
          "output_type": "stream",
          "name": "stdout",
          "text": [
            "2\n",
            "4\n",
            "6\n",
            "8\n",
            "10\n"
          ]
        }
      ]
    },
    {
      "cell_type": "markdown",
      "source": [
        "### read, write file"
      ],
      "metadata": {
        "id": "hCjaEboQkvvd"
      }
    },
    {
      "cell_type": "code",
      "source": [
        "with open('file.txt') as f:\n",
        "  content = f.read()"
      ],
      "metadata": {
        "id": "oINSOObjkBgH"
      },
      "execution_count": null,
      "outputs": []
    },
    {
      "cell_type": "code",
      "source": [
        "with open('file.txt', 'w') as f:\n",
        "  content = f.write('abc 123')"
      ],
      "metadata": {
        "id": "gtAjZQEZjOV_"
      },
      "execution_count": null,
      "outputs": []
    },
    {
      "cell_type": "markdown",
      "source": [
        "###try"
      ],
      "metadata": {
        "id": "sRiY6dtMlbMs"
      }
    },
    {
      "cell_type": "code",
      "source": [
        "try:\n",
        "  division = 10/0\n",
        "except ZeroDivisionError:\n",
        "  print(\"Division by zero occurs\")"
      ],
      "metadata": {
        "colab": {
          "base_uri": "https://localhost:8080/"
        },
        "id": "fzg2sCbylOk7",
        "outputId": "f0e1f2bf-7fca-4386-b46c-ece66548d421"
      },
      "execution_count": null,
      "outputs": [
        {
          "output_type": "stream",
          "name": "stdout",
          "text": [
            "Division by zero occurs\n"
          ]
        }
      ]
    },
    {
      "cell_type": "markdown",
      "source": [
        "###assert"
      ],
      "metadata": {
        "id": "Omwt3jNQl8A0"
      }
    },
    {
      "cell_type": "code",
      "source": [
        "a = 5\n",
        "b = 0\n",
        "# assert b != 0, \"a\"\n",
        "# c = a/b"
      ],
      "metadata": {
        "id": "la1N4IJHl4I_"
      },
      "execution_count": null,
      "outputs": []
    },
    {
      "cell_type": "markdown",
      "source": [
        "###funtion\n"
      ],
      "metadata": {
        "id": "eo1CO02Rmuc8"
      }
    },
    {
      "cell_type": "code",
      "source": [
        "def do_sum(a,b=5):\n",
        "  def decrease(a):\n",
        "    return a - 1\n",
        "  return decrease(a+b)\n",
        "do_sum(7)"
      ],
      "metadata": {
        "colab": {
          "base_uri": "https://localhost:8080/"
        },
        "id": "UB6w2lY0mMbD",
        "outputId": "7ace38ef-8f7a-4f38-8536-a66eb1e5b6f7"
      },
      "execution_count": null,
      "outputs": [
        {
          "output_type": "execute_result",
          "data": {
            "text/plain": [
              "11"
            ]
          },
          "metadata": {},
          "execution_count": 7
        }
      ]
    },
    {
      "cell_type": "markdown",
      "source": [
        "###oop"
      ],
      "metadata": {
        "id": "MY_rSGF3nRuV"
      }
    },
    {
      "cell_type": "code",
      "source": [
        "class Person:\n",
        "  def __init__(self, name, age, phone_number):\n",
        "    self._name = name\n",
        "    self._age = age\n",
        "    self._phone_number = phone_number\n",
        "    self._selected_items = []\n",
        "  def select(self, item):\n",
        "    self._selected_items.append(item)\n",
        "  def get_info(self):\n",
        "    return 'Name: {} \\nAge: {} \\nPhone number: {}'.format(self._name, self._age, self._phone_number)"
      ],
      "metadata": {
        "id": "udOBnbHLnPVP"
      },
      "execution_count": null,
      "outputs": []
    },
    {
      "cell_type": "code",
      "source": [
        "nam = Person(\"Nam\", 16, 123456)\n",
        "nam.select(\"Book\")\n",
        "nam.select(\"Pen\")\n",
        "print(nam._selected_items)\n",
        "print(nam.get_info())"
      ],
      "metadata": {
        "colab": {
          "base_uri": "https://localhost:8080/"
        },
        "id": "l5iVimU5oiVL",
        "outputId": "44ef188f-eb85-4d19-98b7-6455c26d685c"
      },
      "execution_count": null,
      "outputs": [
        {
          "output_type": "stream",
          "name": "stdout",
          "text": [
            "['Book', 'Pen']\n",
            "Name: Nam \n",
            "Age: 16 \n",
            "Phone number: 123456\n"
          ]
        }
      ]
    },
    {
      "cell_type": "markdown",
      "source": [
        "###numpy"
      ],
      "metadata": {
        "id": "f2jEBuFwptVo"
      }
    },
    {
      "cell_type": "code",
      "source": [
        "import numpy as np\n",
        "a1 = np.array([1, 2, 3])\n",
        "a2 = np.array([[1, 5, 3], [4, 1, 6],[7, 8, 9]])\n",
        "a1, a2"
      ],
      "metadata": {
        "colab": {
          "base_uri": "https://localhost:8080/"
        },
        "id": "CvmqdDJ0o5L-",
        "outputId": "9a443ffc-488d-4436-8193-9f6e43b46020"
      },
      "execution_count": null,
      "outputs": [
        {
          "output_type": "execute_result",
          "data": {
            "text/plain": [
              "(array([1, 2, 3]), array([[1, 5, 3],\n",
              "        [4, 1, 6],\n",
              "        [7, 8, 9]]))"
            ]
          },
          "metadata": {},
          "execution_count": 23
        }
      ]
    },
    {
      "cell_type": "code",
      "source": [
        "a1 + a2\n",
        "a1 - a2\n",
        "a1.dot(a2)\n",
        "a1 / a2\n",
        "a2.transpose()\n",
        "np.linalg.inv(a2)"
      ],
      "metadata": {
        "colab": {
          "base_uri": "https://localhost:8080/"
        },
        "id": "BmgHXzVjqOlY",
        "outputId": "56a5ba47-ce28-451f-fb33-82c85135e729"
      },
      "execution_count": null,
      "outputs": [
        {
          "output_type": "execute_result",
          "data": {
            "text/plain": [
              "array([[-0.59090909, -0.31818182,  0.40909091],\n",
              "       [ 0.09090909, -0.18181818,  0.09090909],\n",
              "       [ 0.37878788,  0.40909091, -0.28787879]])"
            ]
          },
          "metadata": {},
          "execution_count": 24
        }
      ]
    },
    {
      "cell_type": "markdown",
      "source": [
        "##Linear Regression"
      ],
      "metadata": {
        "id": "E9enFBYKr6vB"
      }
    },
    {
      "cell_type": "markdown",
      "source": [
        "###import"
      ],
      "metadata": {
        "id": "YRZrjmJgP47v"
      }
    },
    {
      "cell_type": "code",
      "source": [
        "import pandas as pd\n",
        "import numpy as np\n"
      ],
      "metadata": {
        "id": "vm9hyadwp_su"
      },
      "execution_count": null,
      "outputs": []
    },
    {
      "cell_type": "code",
      "source": [
        "data = pd.read_csv('/content/drive/MyDrive/x28.txt',header=None, index_col=False,delim_whitespace=True)\n",
        "#file đã xóa trực tiếp mấy dòng comment\n",
        "data = data.iloc[:,1:]\n",
        "data.head()"
      ],
      "metadata": {
        "colab": {
          "base_uri": "https://localhost:8080/",
          "height": 206
        },
        "id": "yTnotbgLQXz2",
        "outputId": "00fbe16a-97ff-4245-8683-4ad2dcb25b8f"
      },
      "execution_count": null,
      "outputs": [
        {
          "output_type": "execute_result",
          "data": {
            "text/html": [
              "\n",
              "  <div id=\"df-eff562b1-fe02-47f6-b068-bc655b11f48a\">\n",
              "    <div class=\"colab-df-container\">\n",
              "      <div>\n",
              "<style scoped>\n",
              "    .dataframe tbody tr th:only-of-type {\n",
              "        vertical-align: middle;\n",
              "    }\n",
              "\n",
              "    .dataframe tbody tr th {\n",
              "        vertical-align: top;\n",
              "    }\n",
              "\n",
              "    .dataframe thead th {\n",
              "        text-align: right;\n",
              "    }\n",
              "</style>\n",
              "<table border=\"1\" class=\"dataframe\">\n",
              "  <thead>\n",
              "    <tr style=\"text-align: right;\">\n",
              "      <th></th>\n",
              "      <th>1</th>\n",
              "      <th>2</th>\n",
              "      <th>3</th>\n",
              "      <th>4</th>\n",
              "      <th>5</th>\n",
              "      <th>6</th>\n",
              "      <th>7</th>\n",
              "      <th>8</th>\n",
              "      <th>9</th>\n",
              "      <th>10</th>\n",
              "      <th>11</th>\n",
              "      <th>12</th>\n",
              "      <th>13</th>\n",
              "      <th>14</th>\n",
              "      <th>15</th>\n",
              "      <th>16</th>\n",
              "    </tr>\n",
              "  </thead>\n",
              "  <tbody>\n",
              "    <tr>\n",
              "      <th>0</th>\n",
              "      <td>36</td>\n",
              "      <td>27</td>\n",
              "      <td>71</td>\n",
              "      <td>8.1</td>\n",
              "      <td>3.34</td>\n",
              "      <td>11.4</td>\n",
              "      <td>81.5</td>\n",
              "      <td>3243</td>\n",
              "      <td>8.8</td>\n",
              "      <td>42.6</td>\n",
              "      <td>11.7</td>\n",
              "      <td>21</td>\n",
              "      <td>15</td>\n",
              "      <td>59</td>\n",
              "      <td>59</td>\n",
              "      <td>921.870</td>\n",
              "    </tr>\n",
              "    <tr>\n",
              "      <th>1</th>\n",
              "      <td>35</td>\n",
              "      <td>23</td>\n",
              "      <td>72</td>\n",
              "      <td>11.1</td>\n",
              "      <td>3.14</td>\n",
              "      <td>11.0</td>\n",
              "      <td>78.8</td>\n",
              "      <td>4281</td>\n",
              "      <td>3.6</td>\n",
              "      <td>50.7</td>\n",
              "      <td>14.4</td>\n",
              "      <td>8</td>\n",
              "      <td>10</td>\n",
              "      <td>39</td>\n",
              "      <td>57</td>\n",
              "      <td>997.875</td>\n",
              "    </tr>\n",
              "    <tr>\n",
              "      <th>2</th>\n",
              "      <td>44</td>\n",
              "      <td>29</td>\n",
              "      <td>74</td>\n",
              "      <td>10.4</td>\n",
              "      <td>3.21</td>\n",
              "      <td>9.8</td>\n",
              "      <td>81.6</td>\n",
              "      <td>4260</td>\n",
              "      <td>0.8</td>\n",
              "      <td>39.4</td>\n",
              "      <td>12.4</td>\n",
              "      <td>6</td>\n",
              "      <td>6</td>\n",
              "      <td>33</td>\n",
              "      <td>54</td>\n",
              "      <td>962.354</td>\n",
              "    </tr>\n",
              "    <tr>\n",
              "      <th>3</th>\n",
              "      <td>47</td>\n",
              "      <td>45</td>\n",
              "      <td>79</td>\n",
              "      <td>6.5</td>\n",
              "      <td>3.41</td>\n",
              "      <td>11.1</td>\n",
              "      <td>77.5</td>\n",
              "      <td>3125</td>\n",
              "      <td>27.1</td>\n",
              "      <td>50.2</td>\n",
              "      <td>20.6</td>\n",
              "      <td>18</td>\n",
              "      <td>8</td>\n",
              "      <td>24</td>\n",
              "      <td>56</td>\n",
              "      <td>982.291</td>\n",
              "    </tr>\n",
              "    <tr>\n",
              "      <th>4</th>\n",
              "      <td>43</td>\n",
              "      <td>35</td>\n",
              "      <td>77</td>\n",
              "      <td>7.6</td>\n",
              "      <td>3.44</td>\n",
              "      <td>9.6</td>\n",
              "      <td>84.6</td>\n",
              "      <td>6441</td>\n",
              "      <td>24.4</td>\n",
              "      <td>43.7</td>\n",
              "      <td>14.3</td>\n",
              "      <td>43</td>\n",
              "      <td>38</td>\n",
              "      <td>206</td>\n",
              "      <td>55</td>\n",
              "      <td>1071.289</td>\n",
              "    </tr>\n",
              "  </tbody>\n",
              "</table>\n",
              "</div>\n",
              "      <button class=\"colab-df-convert\" onclick=\"convertToInteractive('df-eff562b1-fe02-47f6-b068-bc655b11f48a')\"\n",
              "              title=\"Convert this dataframe to an interactive table.\"\n",
              "              style=\"display:none;\">\n",
              "        \n",
              "  <svg xmlns=\"http://www.w3.org/2000/svg\" height=\"24px\"viewBox=\"0 0 24 24\"\n",
              "       width=\"24px\">\n",
              "    <path d=\"M0 0h24v24H0V0z\" fill=\"none\"/>\n",
              "    <path d=\"M18.56 5.44l.94 2.06.94-2.06 2.06-.94-2.06-.94-.94-2.06-.94 2.06-2.06.94zm-11 1L8.5 8.5l.94-2.06 2.06-.94-2.06-.94L8.5 2.5l-.94 2.06-2.06.94zm10 10l.94 2.06.94-2.06 2.06-.94-2.06-.94-.94-2.06-.94 2.06-2.06.94z\"/><path d=\"M17.41 7.96l-1.37-1.37c-.4-.4-.92-.59-1.43-.59-.52 0-1.04.2-1.43.59L10.3 9.45l-7.72 7.72c-.78.78-.78 2.05 0 2.83L4 21.41c.39.39.9.59 1.41.59.51 0 1.02-.2 1.41-.59l7.78-7.78 2.81-2.81c.8-.78.8-2.07 0-2.86zM5.41 20L4 18.59l7.72-7.72 1.47 1.35L5.41 20z\"/>\n",
              "  </svg>\n",
              "      </button>\n",
              "      \n",
              "  <style>\n",
              "    .colab-df-container {\n",
              "      display:flex;\n",
              "      flex-wrap:wrap;\n",
              "      gap: 12px;\n",
              "    }\n",
              "\n",
              "    .colab-df-convert {\n",
              "      background-color: #E8F0FE;\n",
              "      border: none;\n",
              "      border-radius: 50%;\n",
              "      cursor: pointer;\n",
              "      display: none;\n",
              "      fill: #1967D2;\n",
              "      height: 32px;\n",
              "      padding: 0 0 0 0;\n",
              "      width: 32px;\n",
              "    }\n",
              "\n",
              "    .colab-df-convert:hover {\n",
              "      background-color: #E2EBFA;\n",
              "      box-shadow: 0px 1px 2px rgba(60, 64, 67, 0.3), 0px 1px 3px 1px rgba(60, 64, 67, 0.15);\n",
              "      fill: #174EA6;\n",
              "    }\n",
              "\n",
              "    [theme=dark] .colab-df-convert {\n",
              "      background-color: #3B4455;\n",
              "      fill: #D2E3FC;\n",
              "    }\n",
              "\n",
              "    [theme=dark] .colab-df-convert:hover {\n",
              "      background-color: #434B5C;\n",
              "      box-shadow: 0px 1px 3px 1px rgba(0, 0, 0, 0.15);\n",
              "      filter: drop-shadow(0px 1px 2px rgba(0, 0, 0, 0.3));\n",
              "      fill: #FFFFFF;\n",
              "    }\n",
              "  </style>\n",
              "\n",
              "      <script>\n",
              "        const buttonEl =\n",
              "          document.querySelector('#df-eff562b1-fe02-47f6-b068-bc655b11f48a button.colab-df-convert');\n",
              "        buttonEl.style.display =\n",
              "          google.colab.kernel.accessAllowed ? 'block' : 'none';\n",
              "\n",
              "        async function convertToInteractive(key) {\n",
              "          const element = document.querySelector('#df-eff562b1-fe02-47f6-b068-bc655b11f48a');\n",
              "          const dataTable =\n",
              "            await google.colab.kernel.invokeFunction('convertToInteractive',\n",
              "                                                     [key], {});\n",
              "          if (!dataTable) return;\n",
              "\n",
              "          const docLinkHtml = 'Like what you see? Visit the ' +\n",
              "            '<a target=\"_blank\" href=https://colab.research.google.com/notebooks/data_table.ipynb>data table notebook</a>'\n",
              "            + ' to learn more about interactive tables.';\n",
              "          element.innerHTML = '';\n",
              "          dataTable['output_type'] = 'display_data';\n",
              "          await google.colab.output.renderOutput(dataTable, element);\n",
              "          const docLink = document.createElement('div');\n",
              "          docLink.innerHTML = docLinkHtml;\n",
              "          element.appendChild(docLink);\n",
              "        }\n",
              "      </script>\n",
              "    </div>\n",
              "  </div>\n",
              "  "
            ],
            "text/plain": [
              "   1   2   3     4     5     6     7   ...    10    11  12  13   14  15        16\n",
              "0  36  27  71   8.1  3.34  11.4  81.5  ...  42.6  11.7  21  15   59  59   921.870\n",
              "1  35  23  72  11.1  3.14  11.0  78.8  ...  50.7  14.4   8  10   39  57   997.875\n",
              "2  44  29  74  10.4  3.21   9.8  81.6  ...  39.4  12.4   6   6   33  54   962.354\n",
              "3  47  45  79   6.5  3.41  11.1  77.5  ...  50.2  20.6  18   8   24  56   982.291\n",
              "4  43  35  77   7.6  3.44   9.6  84.6  ...  43.7  14.3  43  38  206  55  1071.289\n",
              "\n",
              "[5 rows x 16 columns]"
            ]
          },
          "metadata": {},
          "execution_count": 8
        }
      ]
    },
    {
      "cell_type": "code",
      "source": [
        "X = data.iloc[:,:-1]\n",
        "y = data.iloc[:,-1]"
      ],
      "metadata": {
        "id": "SLVNUhE4bIC7"
      },
      "execution_count": null,
      "outputs": []
    },
    {
      "cell_type": "code",
      "source": [
        "X_train, y_train = X[:50], y[:50]\n",
        "X_test,y_test = X[50:], y[50:]"
      ],
      "metadata": {
        "id": "Qowd8rx7Xd6U"
      },
      "execution_count": null,
      "outputs": []
    },
    {
      "cell_type": "markdown",
      "source": [
        "###feature scaling"
      ],
      "metadata": {
        "id": "Ua0c1J3OkEmj"
      }
    },
    {
      "cell_type": "code",
      "source": [
        "from sklearn import preprocessing\n",
        "min_max_scaler = preprocessing.MinMaxScaler()\n",
        "X = min_max_scaler.fit_transform(X)"
      ],
      "metadata": {
        "id": "355hOUP9gylQ"
      },
      "execution_count": null,
      "outputs": []
    },
    {
      "cell_type": "markdown",
      "source": [
        "###Cross-validation"
      ],
      "metadata": {
        "id": "gEYvphT5bHAn"
      }
    },
    {
      "cell_type": "markdown",
      "source": [
        "cách hiểu:\n",
        "\n",
        "là 1 phương pháp để do sự chính xác của 1 model bằng cách chia model thành k tập $D_1,D_2,...,D_k$. Cho $i$ chạy từ 1 đên $k$, lấy $D_i$ làm tập test, $D\\backslash D_i$ làm tập train, thực hiện model, tính loss function trên tập $D_i$ được $L_i$. \n",
        "\n",
        "trung bình hàm mất mát của model sẽ được tính bằng: $\\frac{1}{k}\\sum\\limits_{i = 1}^k {{L_i}} $"
      ],
      "metadata": {
        "id": "EzPu5grqou3r"
      }
    },
    {
      "cell_type": "markdown",
      "source": [
        "###get lambda"
      ],
      "metadata": {
        "id": "GhSEhEY8qP_x"
      }
    },
    {
      "cell_type": "markdown",
      "source": [
        "cách hiểu:\n",
        "\n",
        "cho lambda chạy từ 0 đến 49, qua phương pháp cross-validation để tìm lambda tối ưu.( được λ)\n",
        "\n",
        "cho lambda chạy từ λ-1 đến λ+1 (mỗi bước +0.001) tiếp tục áp dụng cross-validation để tìm lambda tối ưu.\n",
        "\n",
        "\n"
      ],
      "metadata": {
        "id": "LWKB3HHEqY5R"
      }
    },
    {
      "cell_type": "code",
      "source": [
        "from sklearn.linear_model import Ridge\n",
        "import numpy as np\n",
        "from sklearn.model_selection import cross_validate\n",
        "\n",
        "lam = 0\n",
        "RRS = 100000000 #khởi tạo giá trị hàm mất mát\n",
        "for i in range(0,50):\n",
        "  clf = Ridge(alpha=i)\n",
        "  scores = cross_validate(clf, X_train, y_train, cv=5,scoring=('neg_mean_squared_error'))\n",
        "  # cross_validate với model Ridge, chạy trên tập train, k = 5, phương pháp tính là compute RSS\n",
        "  # trả về list 5 phần tử tương ứng là negative của RRS ứng với mỗi nhóm\n",
        "  RRS_new = -1 * np.average(scores['test_score']) #tính trung bình của RSS\n",
        "  #print(RRS_new)\n",
        "  if RRS > RRS_new:\n",
        "    RRS = RRS_new\n",
        "    lam = i\n",
        "\n",
        "for i in range((lam-1)*1000, (lam+1)*1000):\n",
        "  clf = Ridge(alpha = i/1000)\n",
        "  scores = cross_validate(clf, X_train, y_train, cv=5,scoring=('neg_mean_squared_error'))\n",
        "  RRS_new = -1 * np.average(scores['test_score'])\n",
        "  #print(RRS_new)\n",
        "  if RRS > RRS_new:\n",
        "    RRS = RRS_new\n",
        "    lam = i/1000\n",
        "\n",
        "print(lam)"
      ],
      "metadata": {
        "id": "BaJ3NmgFklR4",
        "colab": {
          "base_uri": "https://localhost:8080/"
        },
        "outputId": "d299f713-37d9-4248-aff9-db8a6493a79f"
      },
      "execution_count": null,
      "outputs": [
        {
          "output_type": "execute_result",
          "data": {
            "text/plain": [
              "0.755"
            ]
          },
          "metadata": {},
          "execution_count": 31
        }
      ]
    },
    {
      "cell_type": "markdown",
      "source": [
        "###train"
      ],
      "metadata": {
        "id": "FNowPhgAt_DK"
      }
    },
    {
      "cell_type": "code",
      "source": [
        "clf = Ridge(alpha=lam)\n",
        "clf.fit(X_train, y_train)\n",
        "clf.predict(X_test)"
      ],
      "metadata": {
        "colab": {
          "base_uri": "https://localhost:8080/"
        },
        "id": "Tpycophqt0ad",
        "outputId": "6a74bd37-1d60-4d35-a874-4fbbcd3b7f77"
      },
      "execution_count": null,
      "outputs": [
        {
          "output_type": "execute_result",
          "data": {
            "text/plain": [
              "array([900.66421176, 926.96412256, 924.8150966 , 916.45220249,\n",
              "       965.1466827 , 891.69065456, 934.35650943, 914.16036574,\n",
              "       977.00659239, 945.72271639])"
            ]
          },
          "metadata": {},
          "execution_count": 32
        }
      ]
    },
    {
      "cell_type": "markdown",
      "source": [
        "## Tiền xử lý dữ liệu"
      ],
      "metadata": {
        "id": "1Nj5t1gCASda"
      }
    },
    {
      "cell_type": "markdown",
      "source": [
        "###tf-idf\n",
        "dùng thư viện [sau](https://scikit-learn.org/stable/modules/generated/sklearn.feature_extraction.text.TfidfVectorizer.html)\n"
      ],
      "metadata": {
        "id": "ojgHT4meAWUR"
      }
    },
    {
      "cell_type": "code",
      "source": [
        "from sklearn.feature_extraction.text import TfidfVectorizer\n",
        "corpus = [\n",
        "    'This is the first document.',\n",
        "    'This document is the second document.',\n",
        "    'And this is the third one.',\n",
        "    'Is this the first document?',\n",
        "]\n",
        "vectorizer = TfidfVectorizer()\n",
        "X = vectorizer.fit_transform(corpus)\n",
        "vectorizer.get_feature_names_out()\n"
      ],
      "metadata": {
        "colab": {
          "base_uri": "https://localhost:8080/"
        },
        "id": "D2EXlCqK38qQ",
        "outputId": "77568779-f520-4019-930d-2d04b0807cba"
      },
      "execution_count": 2,
      "outputs": [
        {
          "output_type": "execute_result",
          "data": {
            "text/plain": [
              "array(['and', 'document', 'first', 'is', 'one', 'second', 'the', 'third',\n",
              "       'this'], dtype=object)"
            ]
          },
          "metadata": {},
          "execution_count": 2
        }
      ]
    },
    {
      "cell_type": "code",
      "source": [
        "print(X)"
      ],
      "metadata": {
        "colab": {
          "base_uri": "https://localhost:8080/"
        },
        "id": "1-dIMlVo5IZ8",
        "outputId": "7b00d65b-8b3d-41b1-cd99-14b8f8298b77"
      },
      "execution_count": 3,
      "outputs": [
        {
          "output_type": "stream",
          "name": "stdout",
          "text": [
            "  (0, 1)\t0.46979138557992045\n",
            "  (0, 2)\t0.5802858236844359\n",
            "  (0, 6)\t0.38408524091481483\n",
            "  (0, 3)\t0.38408524091481483\n",
            "  (0, 8)\t0.38408524091481483\n",
            "  (1, 5)\t0.5386476208856763\n",
            "  (1, 1)\t0.6876235979836938\n",
            "  (1, 6)\t0.281088674033753\n",
            "  (1, 3)\t0.281088674033753\n",
            "  (1, 8)\t0.281088674033753\n",
            "  (2, 4)\t0.511848512707169\n",
            "  (2, 7)\t0.511848512707169\n",
            "  (2, 0)\t0.511848512707169\n",
            "  (2, 6)\t0.267103787642168\n",
            "  (2, 3)\t0.267103787642168\n",
            "  (2, 8)\t0.267103787642168\n",
            "  (3, 1)\t0.46979138557992045\n",
            "  (3, 2)\t0.5802858236844359\n",
            "  (3, 6)\t0.38408524091481483\n",
            "  (3, 3)\t0.38408524091481483\n",
            "  (3, 8)\t0.38408524091481483\n"
          ]
        }
      ]
    }
  ]
}