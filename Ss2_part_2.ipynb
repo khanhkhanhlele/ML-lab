{
  "nbformat": 4,
  "nbformat_minor": 0,
  "metadata": {
    "colab": {
      "name": "Copy of Ss2 part 2.ipynb",
      "provenance": [],
      "authorship_tag": "ABX9TyN98j0L+ZdkpSkOrSkYMJBE",
      "include_colab_link": true
    },
    "kernelspec": {
      "name": "python3",
      "display_name": "Python 3"
    },
    "language_info": {
      "name": "python"
    }
  },
  "cells": [
    {
      "cell_type": "markdown",
      "metadata": {
        "id": "view-in-github",
        "colab_type": "text"
      },
      "source": [
        "<a href=\"https://colab.research.google.com/github/khanhkhanhlele/ML-lab/blob/main/Ss2_part_2.ipynb\" target=\"_parent\"><img src=\"https://colab.research.google.com/assets/colab-badge.svg\" alt=\"Open In Colab\"/></a>"
      ]
    },
    {
      "cell_type": "markdown",
      "source": [
        "#init"
      ],
      "metadata": {
        "id": "0KOrQtn9LvNE"
      }
    },
    {
      "cell_type": "code",
      "execution_count": null,
      "metadata": {
        "colab": {
          "base_uri": "https://localhost:8080/"
        },
        "id": "6BYy6e6-C9az",
        "outputId": "9f78509b-0712-4f55-bada-66998d16c512"
      },
      "outputs": [
        {
          "output_type": "stream",
          "name": "stdout",
          "text": [
            "Mounted at /content/drive\n"
          ]
        }
      ],
      "source": [
        "from google.colab import drive\n",
        "drive.mount('/content/drive')"
      ]
    },
    {
      "cell_type": "code",
      "source": [
        "cd /content/drive/MyDrive/"
      ],
      "metadata": {
        "colab": {
          "base_uri": "https://localhost:8080/"
        },
        "id": "J5SXsHCAHmGo",
        "outputId": "8872f343-84f6-4460-e998-4c28f75ea76a"
      },
      "execution_count": null,
      "outputs": [
        {
          "output_type": "stream",
          "name": "stdout",
          "text": [
            "/content/drive/MyDrive\n"
          ]
        }
      ]
    },
    {
      "cell_type": "code",
      "source": [
        "import os\n",
        "import pandas as pd \n",
        "import numpy as np\n",
        "import math \n",
        "import re\n",
        "from sklearn.cluster import KMeans\n",
        "from sklearn.svm import LinearSVC, SVC\n",
        "from scipy.sparse import csr_matrix"
      ],
      "metadata": {
        "id": "HrSY7vV5HzSg"
      },
      "execution_count": null,
      "outputs": []
    },
    {
      "cell_type": "markdown",
      "source": [
        "#load data"
      ],
      "metadata": {
        "id": "HSss5qFZLpjW"
      }
    },
    {
      "cell_type": "code",
      "source": [
        "def load_data(data_path):\n",
        "    def sparse_to_dense(sparse_r_d, vocab_size):\n",
        "        r_d = [0.0 for _ in range(vocab_size)]\n",
        "        indices_tfidfs = sparse_r_d.split()\n",
        "        for index_tfidf in indices_tfidfs:\n",
        "            index = int(index_tfidf.split(':')[0])\n",
        "            tfidf = float(index_tfidf.split(':')[1])\n",
        "            r_d[index] = tfidf\n",
        "        return np.array(r_d)\n",
        "\n",
        "    with open(data_path, encoding='unicode_escape') as f:\n",
        "        d_lines = f.read().splitlines()\n",
        "    with open('/content/drive/MyDrive/datasets/20news-bydate/words_idfs.txt', encoding='unicode_escape') as f:\n",
        "        vocab_size = len(f.read().splitlines())\n",
        "\n",
        "    data = []\n",
        "    labels = []\n",
        "    for data_id, d in enumerate(d_lines):\n",
        "        features = d.split('<fff>')\n",
        "        label, doc_id = int(features[0]), int(features[1])\n",
        "        r_d = sparse_to_dense(sparse_r_d = features[2], vocab_size=vocab_size)\n",
        "        data.append(r_d)\n",
        "        labels.append(label)\n",
        "    return data, labels\n",
        "X, y = load_data('/content/drive/MyDrive/datasets/20news-bydate/data_tf_idf.txt')\n"
      ],
      "metadata": {
        "id": "OSio91uHQaUg"
      },
      "execution_count": null,
      "outputs": []
    },
    {
      "cell_type": "code",
      "source": [
        "np.shape(X), np.shape(y)\n"
      ],
      "metadata": {
        "colab": {
          "base_uri": "https://localhost:8080/"
        },
        "id": "Zhtn5aUSQ7Ru",
        "outputId": "b7958359-bad7-43f2-b35f-6a791b7e72a6"
      },
      "execution_count": null,
      "outputs": [
        {
          "output_type": "execute_result",
          "data": {
            "text/plain": [
              "((18846, 14230), (18846,))"
            ]
          },
          "metadata": {},
          "execution_count": 51
        }
      ]
    },
    {
      "cell_type": "markdown",
      "source": [
        "# Split Data"
      ],
      "metadata": {
        "id": "NjglztU9Lx30"
      }
    },
    {
      "cell_type": "code",
      "source": [
        "from sklearn.model_selection import train_test_split\n",
        "X_train, X_test, y_train, y_test = train_test_split(X, y, random_state=1)"
      ],
      "metadata": {
        "id": "FB6he4CVLh6Z"
      },
      "execution_count": null,
      "outputs": []
    },
    {
      "cell_type": "code",
      "source": [
        "np.shape(X_train), np.shape(X_test), np.shape(y_train), np.shape(y_test)"
      ],
      "metadata": {
        "colab": {
          "base_uri": "https://localhost:8080/"
        },
        "id": "nhivGjwWMQBn",
        "outputId": "aae1db9d-f775-4d0e-9e6a-3dd8f06d3b0e"
      },
      "execution_count": null,
      "outputs": [
        {
          "output_type": "execute_result",
          "data": {
            "text/plain": [
              "((14134, 14230), (4712, 14230), (14134,), (4712,))"
            ]
          },
          "metadata": {},
          "execution_count": 33
        }
      ]
    },
    {
      "cell_type": "markdown",
      "source": [
        "#Accuracy"
      ],
      "metadata": {
        "id": "4ZiL-c1BNSNJ"
      }
    },
    {
      "cell_type": "code",
      "source": [
        "def compute_accuracy(predicted_y, expected_y):\n",
        "    matches = np.equal(predicted_y, expected_y)\n",
        "    accuracy = np.sum(matches.astype(float)) / len(expected_y)\n",
        "    return accuracy"
      ],
      "metadata": {
        "id": "96w2FdxsNT4Y"
      },
      "execution_count": null,
      "outputs": []
    },
    {
      "cell_type": "markdown",
      "source": [
        "#Kmeans"
      ],
      "metadata": {
        "id": "3O6AePEnMTUD"
      }
    },
    {
      "cell_type": "code",
      "source": [
        "def clustering_with_KMeans():\n",
        "    X = csr_matrix(X_train)\n",
        "    print('================')\n",
        "    kmeans = KMeans(\n",
        "        n_clusters=20,\n",
        "        init='random',\n",
        "        n_init=5,\n",
        "        tol=1e-3,\n",
        "        random_state=2022\n",
        "    ).fit(X)\n",
        "    labels = kmeans.labels_\n",
        "    print(labels)\n",
        "clustering_with_KMeans()"
      ],
      "metadata": {
        "colab": {
          "base_uri": "https://localhost:8080/"
        },
        "id": "VPTzy5l2MhbW",
        "outputId": "da748c91-78c4-457a-9784-0de6e9884066"
      },
      "execution_count": null,
      "outputs": [
        {
          "output_type": "stream",
          "name": "stdout",
          "text": [
            "================\n",
            "[ 7 17 13 ... 13  8 13]\n"
          ]
        }
      ]
    },
    {
      "cell_type": "markdown",
      "source": [
        "#Linear SVMs"
      ],
      "metadata": {
        "id": "4qn0JkZ2Onzf"
      }
    },
    {
      "cell_type": "code",
      "source": [
        "X_train, y_train, X_test, y_test = np.array(X_train), np.array(y_train), np.array(X_test), np.array(y_test)"
      ],
      "metadata": {
        "id": "q32WWwxQVSai"
      },
      "execution_count": null,
      "outputs": []
    },
    {
      "cell_type": "code",
      "source": [
        "def classifying_with_linear_SVMs(X_train, y_train, X_test, y_test):\n",
        "    classifier = LinearSVC(\n",
        "        C=10.0, \n",
        "        tol=0.001, \n",
        "        verbose=False \n",
        "    )\n",
        "    classifier.fit(X_train, y_train)\n",
        "    predicted_y = classifier.predict(X_test)\n",
        "    accuracy = compute_accuracy(predicted_y = predicted_y, expected_y = y_test)\n",
        "    print('acc: ', accuracy)\n",
        "classifying_with_linear_SVMs(X_train, y_train, X_test, y_test)"
      ],
      "metadata": {
        "colab": {
          "base_uri": "https://localhost:8080/"
        },
        "id": "Sw6v7DjVOecg",
        "outputId": "8f0a422e-3b73-40aa-b87c-411fb2330654"
      },
      "execution_count": null,
      "outputs": [
        {
          "output_type": "stream",
          "name": "stdout",
          "text": [
            "acc:  0.9083191850594228\n"
          ]
        }
      ]
    },
    {
      "cell_type": "markdown",
      "source": [
        "#Kernel SVMs"
      ],
      "metadata": {
        "id": "PsfRUXeeU_JN"
      }
    },
    {
      "cell_type": "code",
      "source": [
        "def classifying_with_kernel_SVMs(X_train, y_train, X_test, y_test):\n",
        "    classifier = SVC(\n",
        "        C = 50.0, \n",
        "        kernel = 'rbf',\n",
        "        gamma = 0.1,\n",
        "        tol = 0.01, \n",
        "        verbose = True\n",
        "    )\n",
        "    classifier.fit(X_train, y_train)\n",
        "    predicted_y = classifier.predict(X_test)\n",
        "    accuracy = compute_accuracy(predicted_y = predicted_y, expected_y = y_test)\n",
        "    print('acc: ', accuracy)\n",
        "classifying_with_kernel_SVMs(X_train, y_train, X_test, y_test)\n"
      ],
      "metadata": {
        "colab": {
          "base_uri": "https://localhost:8080/"
        },
        "id": "GL3evW9SU-gI",
        "outputId": "76aa0f05-b3aa-4ca2-da2a-5fd2ca5414c6"
      },
      "execution_count": null,
      "outputs": [
        {
          "output_type": "stream",
          "name": "stdout",
          "text": [
            "[LibSVM]acc:  0.9074702886247877\n"
          ]
        }
      ]
    }
  ]
}